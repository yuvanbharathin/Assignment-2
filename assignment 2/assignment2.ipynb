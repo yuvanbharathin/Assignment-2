{
 "cells": [
  {
   "cell_type": "code",
   "execution_count": 1,
   "metadata": {},
   "outputs": [
    {
     "name": "stdout",
     "output_type": "stream",
     "text": [
      "List of odd numbers from 1 to 50 that are divisible by 3:\n",
      "[3, 9, 15, 21, 27, 33, 39, 45]\n"
     ]
    }
   ],
   "source": [
    "# Create a list of odd numbers from 1 to 50 that are divisible by 3\n",
    "odd_numbers_divisible_by_3 = [num for num in range(1, 51) if num % 2 != 0 and num % 3 == 0]\n",
    "\n",
    "\n",
    "print(\"List of odd numbers from 1 to 50 that are divisible by 3:\")\n",
    "print(odd_numbers_divisible_by_3)"
   ]
  },
  {
   "cell_type": "code",
   "execution_count": 3,
   "metadata": {},
   "outputs": [
    {
     "name": "stdout",
     "output_type": "stream",
     "text": [
      "[1, 2, 3, 4, 5, 6, 7, 8, 9, 10]\n",
      "Final list after deleting even numbers:\n",
      "[1, 3, 5, 7, 9]\n"
     ]
    }
   ],
   "source": [
    "# Create a list of numbers in the range 1 to 10\n",
    "numbers = list(range(1, 11))\n",
    "print(numbers)\n",
    "\n",
    "# Delete all even numbers from the list\n",
    "numbers = [num for num in numbers if num % 2 != 0]\n",
    "\n",
    "# Print the final result\n",
    "print(\"Final list after deleting even numbers:\")\n",
    "print(numbers)"
   ]
  }
 ],
 "metadata": {
  "kernelspec": {
   "display_name": "Python 3",
   "language": "python",
   "name": "python3"
  },
  "language_info": {
   "codemirror_mode": {
    "name": "ipython",
    "version": 3
   },
   "file_extension": ".py",
   "mimetype": "text/x-python",
   "name": "python",
   "nbconvert_exporter": "python",
   "pygments_lexer": "ipython3",
   "version": "3.12.0"
  }
 },
 "nbformat": 4,
 "nbformat_minor": 2
}
